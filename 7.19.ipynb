{
 "cells": [
  {
   "cell_type": "markdown",
   "metadata": {},
   "source": [
    "# 循环\n",
    "- 循环是一种控制语句块重复执行的结构\n",
    "- while  适用于广度遍历\n",
    "- for    开发中经常使用"
   ]
  },
  {
   "cell_type": "markdown",
   "metadata": {},
   "source": [
    "## while 循环\n",
    "- 当一个条件保持真的时候while循环重复执行语句\n",
    "- while 循环一定要有结束条件，否则很容易进入死循环\n",
    "- while 循环的语法是：\n",
    "\n",
    "    while loop-contunuation-conndition:\n",
    "\n",
    "        Statement"
   ]
  },
  {
   "cell_type": "code",
   "execution_count": null,
   "metadata": {},
   "outputs": [],
   "source": [
    "i = 0\n",
    "while i<10:\n",
    "    print('hahaha')\n",
    "    i += 1"
   ]
  },
  {
   "cell_type": "markdown",
   "metadata": {},
   "source": [
    "## 示例：\n",
    "sum = 0\n",
    "\n",
    "i = 1\n",
    "\n",
    "while i <10:\n",
    "\n",
    "    sum = sum + i\n",
    "    i = i + 1"
   ]
  },
  {
   "cell_type": "markdown",
   "metadata": {},
   "source": [
    "## 错误示例：\n",
    "sum = 0\n",
    "\n",
    "i = 1\n",
    "\n",
    "while i <10:\n",
    "\n",
    "    sum = sum + i\n",
    "\n",
    "i = i + 1\n",
    "- 一旦进入死循环可按 Ctrl + c 停止"
   ]
  },
  {
   "cell_type": "markdown",
   "metadata": {},
   "source": [
    "## EP：\n",
    "![](../Photo/143.png)\n",
    "![](../Photo/144.png)"
   ]
  },
  {
   "cell_type": "markdown",
   "metadata": {},
   "source": [
    "# 验证码\n",
    "- 随机产生四个字母的验证码，如果正确，输出验证码正确。如果错误，产生新的验证码，用户重新输入。\n",
    "- 验证码只能输入三次，如果三次都错，返回“别爬了，我们小网站没什么好爬的”\n",
    "- 密码登录，如果三次错误，账号被锁定\n"
   ]
  },
  {
   "cell_type": "code",
   "execution_count": 1,
   "metadata": {},
   "outputs": [],
   "source": [
    "import random"
   ]
  },
  {
   "cell_type": "code",
   "execution_count": 29,
   "metadata": {},
   "outputs": [
    {
     "name": "stdout",
     "output_type": "stream",
     "text": [
      "JWUy\n"
     ]
    }
   ],
   "source": [
    "n = random.randint(65,122)\n",
    "N = \"\"\n",
    "i = 0\n",
    "while 1:\n",
    "    if 91<=n<=96:\n",
    "        n = random.randint(65,122)\n",
    "    else:\n",
    "        N += chr(n)\n",
    "        n = random.randint(65,122)\n",
    "        i += 1\n",
    "        if i == 4:\n",
    "            break\n",
    "print(N)"
   ]
  },
  {
   "cell_type": "code",
   "execution_count": null,
   "metadata": {},
   "outputs": [],
   "source": [
    "count = 0\n",
    "for i in range(1000):\n",
    "    a = random.randint(0,1000) / 1000\n",
    "    if 0<a<0.001"
   ]
  },
  {
   "cell_type": "code",
   "execution_count": null,
   "metadata": {},
   "outputs": [],
   "source": []
  },
  {
   "cell_type": "markdown",
   "metadata": {},
   "source": [
    "## 尝试死循环"
   ]
  },
  {
   "cell_type": "markdown",
   "metadata": {},
   "source": [
    "## 实例研究：猜数字\n",
    "- 你将要编写一个能够随机生成一个0到10之间的且包括两者的数字程序，这个程序\n",
    "- 提示用户连续地输入数字直到正确，且提示用户输入的数字是过高还是过低"
   ]
  },
  {
   "cell_type": "markdown",
   "metadata": {},
   "source": [
    "## 使用哨兵值来控制循环\n",
    "- 哨兵值来表明输入的结束\n",
    "- ![](../Photo/54.png)"
   ]
  },
  {
   "cell_type": "markdown",
   "metadata": {},
   "source": [
    "## 警告\n",
    "![](../Photo/55.png)"
   ]
  },
  {
   "cell_type": "markdown",
   "metadata": {},
   "source": [
    "## for 循环\n",
    "- Python的for 循环通过一个序列中的每个值来进行迭代\n",
    "- range(a,b,k)， a，b，k 必须为整数\n",
    "- a: start\n",
    "- b: end\n",
    "- k: step\n",
    "- 注意for 是循环一切可迭代对象，而不是只能使用range"
   ]
  },
  {
   "cell_type": "code",
   "execution_count": 9,
   "metadata": {
    "collapsed": true
   },
   "outputs": [
    {
     "name": "stdout",
     "output_type": "stream",
     "text": [
      "Joker is a better man!\n",
      "Joker is a better man!\n",
      "Joker is a better man!\n",
      "Joker is a better man!\n",
      "Joker is a better man!\n",
      "Joker is a better man!\n",
      "Joker is a better man!\n",
      "Joker is a better man!\n",
      "Joker is a better man!\n",
      "Joker is a better man!\n",
      "Joker is a better man!\n",
      "Joker is a better man!\n",
      "Joker is a better man!\n",
      "Joker is a better man!\n",
      "Joker is a better man!\n",
      "Joker is a better man!\n",
      "Joker is a better man!\n",
      "Joker is a better man!\n",
      "Joker is a better man!\n",
      "Joker is a better man!\n",
      "Joker is a better man!\n",
      "Joker is a better man!\n",
      "Joker is a better man!\n",
      "Joker is a better man!\n",
      "Joker is a better man!\n",
      "Joker is a better man!\n",
      "Joker is a better man!\n",
      "Joker is a better man!\n",
      "Joker is a better man!\n",
      "Joker is a better man!\n",
      "Joker is a better man!\n",
      "Joker is a better man!\n",
      "Joker is a better man!\n",
      "Joker is a better man!\n",
      "Joker is a better man!\n",
      "Joker is a better man!\n",
      "Joker is a better man!\n",
      "Joker is a better man!\n",
      "Joker is a better man!\n",
      "Joker is a better man!\n",
      "Joker is a better man!\n",
      "Joker is a better man!\n",
      "Joker is a better man!\n",
      "Joker is a better man!\n",
      "Joker is a better man!\n",
      "Joker is a better man!\n",
      "Joker is a better man!\n",
      "Joker is a better man!\n",
      "Joker is a better man!\n",
      "Joker is a better man!\n",
      "Joker is a better man!\n",
      "Joker is a better man!\n",
      "Joker is a better man!\n",
      "Joker is a better man!\n",
      "Joker is a better man!\n",
      "Joker is a better man!\n",
      "Joker is a better man!\n",
      "Joker is a better man!\n",
      "Joker is a better man!\n",
      "Joker is a better man!\n",
      "Joker is a better man!\n",
      "Joker is a better man!\n",
      "Joker is a better man!\n",
      "Joker is a better man!\n",
      "Joker is a better man!\n",
      "Joker is a better man!\n",
      "Joker is a better man!\n",
      "Joker is a better man!\n",
      "Joker is a better man!\n",
      "Joker is a better man!\n",
      "Joker is a better man!\n",
      "Joker is a better man!\n",
      "Joker is a better man!\n",
      "Joker is a better man!\n",
      "Joker is a better man!\n",
      "Joker is a better man!\n",
      "Joker is a better man!\n",
      "Joker is a better man!\n",
      "Joker is a better man!\n",
      "Joker is a better man!\n",
      "Joker is a better man!\n",
      "Joker is a better man!\n",
      "Joker is a better man!\n",
      "Joker is a better man!\n",
      "Joker is a better man!\n",
      "Joker is a better man!\n",
      "Joker is a better man!\n",
      "Joker is a better man!\n",
      "Joker is a better man!\n",
      "Joker is a better man!\n",
      "Joker is a better man!\n",
      "Joker is a better man!\n",
      "Joker is a better man!\n",
      "Joker is a better man!\n",
      "Joker is a better man!\n",
      "Joker is a better man!\n",
      "Joker is a better man!\n",
      "Joker is a better man!\n",
      "Joker is a better man!\n",
      "Joker is a better man!\n"
     ]
    }
   ],
   "source": [
    "for i in range(100):\n",
    "    print('Joker is a better man!')"
   ]
  },
  {
   "cell_type": "code",
   "execution_count": 14,
   "metadata": {},
   "outputs": [],
   "source": [
    "a = 100"
   ]
  },
  {
   "cell_type": "code",
   "execution_count": 10,
   "metadata": {},
   "outputs": [
    {
     "data": {
      "text/plain": [
       "<str_iterator at 0x10b8863c8>"
      ]
     },
     "execution_count": 10,
     "metadata": {},
     "output_type": "execute_result"
    }
   ],
   "source": [
    "bb = 'JOker'\n",
    "bb.__iter__()"
   ]
  },
  {
   "cell_type": "code",
   "execution_count": null,
   "metadata": {},
   "outputs": [],
   "source": []
  },
  {
   "cell_type": "code",
   "execution_count": 16,
   "metadata": {},
   "outputs": [],
   "source": [
    "c = [1,2,3]\n",
    "c.__iter__"
   ]
  },
  {
   "cell_type": "code",
   "execution_count": null,
   "metadata": {},
   "outputs": [],
   "source": [
    "{'key':'value'}.__iter__\n",
    "(1,3,43).__iter__\n",
    "{1,2,43}.__iter__"
   ]
  },
  {
   "cell_type": "code",
   "execution_count": 19,
   "metadata": {},
   "outputs": [
    {
     "ename": "TypeError",
     "evalue": "'bool' object is not iterable",
     "output_type": "error",
     "traceback": [
      "\u001b[0;31m---------------------------------------------------------------------------\u001b[0m",
      "\u001b[0;31mTypeError\u001b[0m                                 Traceback (most recent call last)",
      "\u001b[0;32m<ipython-input-19-425af1773ecf>\u001b[0m in \u001b[0;36m<module>\u001b[0;34m\u001b[0m\n\u001b[0;32m----> 1\u001b[0;31m \u001b[0;32mfor\u001b[0m \u001b[0mi\u001b[0m \u001b[0;32min\u001b[0m \u001b[0;32mTrue\u001b[0m\u001b[0;34m:\u001b[0m\u001b[0;34m\u001b[0m\u001b[0;34m\u001b[0m\u001b[0m\n\u001b[0m\u001b[1;32m      2\u001b[0m     \u001b[0mprint\u001b[0m\u001b[0;34m(\u001b[0m\u001b[0mi\u001b[0m\u001b[0;34m)\u001b[0m\u001b[0;34m\u001b[0m\u001b[0;34m\u001b[0m\u001b[0m\n",
      "\u001b[0;31mTypeError\u001b[0m: 'bool' object is not iterable"
     ]
    }
   ],
   "source": [
    "for i in range(5):\n",
    "    print(i)"
   ]
  },
  {
   "cell_type": "markdown",
   "metadata": {},
   "source": [
    "# 在Python里面一切皆对象"
   ]
  },
  {
   "cell_type": "markdown",
   "metadata": {},
   "source": [
    "## EP:\n",
    "- ![](../Photo/145.png)"
   ]
  },
  {
   "cell_type": "code",
   "execution_count": 2,
   "metadata": {},
   "outputs": [
    {
     "name": "stdout",
     "output_type": "stream",
     "text": [
      "10011\n"
     ]
    }
   ],
   "source": [
    "i = 1\n",
    "sum_ = 0\n",
    "while sum_ < 10000:\n",
    "    sum_ += i\n",
    "    i += 1\n",
    "print(sum_)"
   ]
  },
  {
   "cell_type": "code",
   "execution_count": 1,
   "metadata": {},
   "outputs": [
    {
     "name": "stdout",
     "output_type": "stream",
     "text": [
      "10011\n"
     ]
    }
   ],
   "source": [
    "sum_ = 0\n",
    "for i in range(1,10001):\n",
    "    sum_ += i\n",
    "    if sum_ > 10000:\n",
    "        break\n",
    "print(sum_)"
   ]
  },
  {
   "cell_type": "code",
   "execution_count": 22,
   "metadata": {},
   "outputs": [
    {
     "name": "stdout",
     "output_type": "stream",
     "text": [
      "500500\n"
     ]
    }
   ],
   "source": [
    "sum = 0\n",
    "i = 0\n",
    "while i < 1001:\n",
    "    sum = sum + i\n",
    "    i += 1\n",
    "print(sum)"
   ]
  },
  {
   "cell_type": "markdown",
   "metadata": {},
   "source": [
    "## 嵌套循环\n",
    "- 一个循环可以嵌套另一个循环\n",
    "- 每次循环外层时，内层循环都会被刷新重新完成循环\n",
    "- 也就是说，大循环执行一次，小循环会全部执行一次\n",
    "- 注意：\n",
    "> - 多层循环非常耗时\n",
    "  - 最多使用3层循环"
   ]
  },
  {
   "cell_type": "code",
   "execution_count": null,
   "metadata": {},
   "outputs": [],
   "source": []
  },
  {
   "cell_type": "markdown",
   "metadata": {},
   "source": [
    "## EP：\n",
    "- 使用多层循环完成9X9乘法表\n",
    "- 显示50以内所有的素数"
   ]
  },
  {
   "cell_type": "markdown",
   "metadata": {},
   "source": [
    "## 关键字 break 和 continue\n",
    "- break 跳出循环，终止循环\n",
    "- continue 跳出此次循环，继续执行"
   ]
  },
  {
   "cell_type": "code",
   "execution_count": 19,
   "metadata": {
    "collapsed": true
   },
   "outputs": [
    {
     "name": "stdout",
     "output_type": "stream",
     "text": [
      "1 X 1 = 1 \n",
      "1 X 2 = 2 2 X 2 = 4 \n",
      "1 X 3 = 3 2 X 3 = 6 3 X 3 = 9 \n",
      "1 X 4 = 4 2 X 4 = 8 3 X 4 = 12 4 X 4 = 16 \n",
      "1 X 5 = 5 2 X 5 = 10 3 X 5 = 15 4 X 5 = 20 5 X 5 = 25 \n",
      "1 X 6 = 6 2 X 6 = 12 3 X 6 = 18 4 X 6 = 24 5 X 6 = 30 6 X 6 = 36 \n",
      "1 X 7 = 7 2 X 7 = 14 3 X 7 = 21 4 X 7 = 28 5 X 7 = 35 6 X 7 = 42 7 X 7 = 49 \n",
      "1 X 8 = 8 2 X 8 = 16 3 X 8 = 24 4 X 8 = 32 5 X 8 = 40 6 X 8 = 48 7 X 8 = 56 8 X 8 = 64 \n",
      "1 X 9 = 9 2 X 9 = 18 3 X 9 = 27 4 X 9 = 36 5 X 9 = 45 6 X 9 = 54 7 X 9 = 63 8 X 9 = 72 9 X 9 = 81 \n"
     ]
    }
   ],
   "source": [
    "for i in range(1,10):\n",
    "    for j in range(1,i+1):\n",
    "        print(j,'X',i,'=',i*j,end=' ')\n",
    "    print()"
   ]
  },
  {
   "cell_type": "markdown",
   "metadata": {},
   "source": [
    "## 注意\n",
    "![](../Photo/56.png)\n",
    "![](../Photo/57.png)"
   ]
  },
  {
   "cell_type": "markdown",
   "metadata": {},
   "source": [
    "# Homework\n",
    "- 1 \n",
    "![](../Photo/58.png)"
   ]
  },
  {
   "cell_type": "code",
   "execution_count": 4,
   "metadata": {},
   "outputs": [
    {
     "name": "stdout",
     "output_type": "stream",
     "text": [
      ">>1\n",
      ">>2\n",
      ">>-1\n",
      ">>3\n",
      ">>0\n",
      "3\n",
      "1\n",
      "1.25\n"
     ]
    }
   ],
   "source": [
    "zhengshu = 0\n",
    "fushu = 0\n",
    "sum_ = 0\n",
    "cishu = 0\n",
    "data = 1\n",
    "def z():\n",
    "    global zhengshu\n",
    "    global fushu\n",
    "    global sum_\n",
    "    global cishu\n",
    "    global data\n",
    "    while data !=0 :\n",
    "        data = eval(input(\">>\"))\n",
    "        if data > 0:\n",
    "            zhengshu += 1\n",
    "        if data < 0:\n",
    "            fushu += 1\n",
    "        sum_ += data\n",
    "        if data != 0:\n",
    "            cishu += 1\n",
    "    \n",
    "    print(zhengshu)    \n",
    "    print(fushu)\n",
    "    print(sum_ / cishu)\n",
    "z()"
   ]
  },
  {
   "cell_type": "markdown",
   "metadata": {},
   "source": [
    "- 2\n",
    "![](../Photo/59.png)"
   ]
  },
  {
   "cell_type": "code",
   "execution_count": 7,
   "metadata": {},
   "outputs": [
    {
     "name": "stdout",
     "output_type": "stream",
     "text": [
      "16288.946267774414\n",
      "19799.31599439397\n"
     ]
    }
   ],
   "source": [
    "def f():\n",
    "    dorlla = 10000\n",
    "    for i in range(14):\n",
    "        dorlla = dorlla * 0.05 + dorlla\n",
    "        if i == 9:\n",
    "            print(dorlla)\n",
    "    print(dorlla)\n",
    "f()"
   ]
  },
  {
   "cell_type": "markdown",
   "metadata": {},
   "source": [
    "- 3\n",
    "![](../Photo/58.png)"
   ]
  },
  {
   "cell_type": "code",
   "execution_count": null,
   "metadata": {},
   "outputs": [],
   "source": [
    "zhengshu = 0\n",
    "fushu = 0\n",
    "sum_ = 0\n",
    "cishu = 0\n",
    "data = 1\n",
    "def z():\n",
    "    global zhengshu\n",
    "    global fushu\n",
    "    global sum_\n",
    "    global cishu\n",
    "    global data\n",
    "    while data !=0 :\n",
    "        data = eval(input(\">>\"))\n",
    "        if data > 0:\n",
    "            zhengshu += 1\n",
    "        if data < 0:\n",
    "            fushu += 1\n",
    "        sum_ += data\n",
    "        if data != 0:\n",
    "            cishu += 1\n",
    "    \n",
    "    print(zhengshu)    \n",
    "    print(fushu)\n",
    "    print(sum_ / cishu)\n",
    "z()"
   ]
  },
  {
   "cell_type": "markdown",
   "metadata": {},
   "source": [
    "- 4\n",
    "![](../Photo/60.png)"
   ]
  },
  {
   "cell_type": "code",
   "execution_count": 10,
   "metadata": {},
   "outputs": [
    {
     "name": "stdout",
     "output_type": "stream",
     "text": [
      "120 150 180 210 240 270 300 330 360 390 \n",
      "420 450 480 510 540 570 600 630 660 690 \n",
      "720 750 780 810 840 870 900 930 960 990 \n"
     ]
    }
   ],
   "source": [
    "def f():\n",
    "    count = 0\n",
    "    for i in range(100,1001):\n",
    "        if i %5==0 and i % 6 == 0:\n",
    "            print(i,end=\" \")\n",
    "            count += 1\n",
    "            if count % 10 == 0:\n",
    "                print()\n",
    "f()       "
   ]
  },
  {
   "cell_type": "markdown",
   "metadata": {},
   "source": [
    "- 5\n",
    "![](../Photo/61.png)"
   ]
  },
  {
   "cell_type": "code",
   "execution_count": 15,
   "metadata": {},
   "outputs": [
    {
     "name": "stdout",
     "output_type": "stream",
     "text": [
      "110\n"
     ]
    }
   ],
   "source": [
    "n = 0\n",
    "while n**2 < 12000:\n",
    "    n += 1\n",
    "print(n)"
   ]
  },
  {
   "cell_type": "code",
   "execution_count": 17,
   "metadata": {},
   "outputs": [
    {
     "name": "stdout",
     "output_type": "stream",
     "text": [
      "22\n"
     ]
    }
   ],
   "source": [
    "n = 0\n",
    "while n**3 < 12000:\n",
    "    n += 1\n",
    "print(n-1)"
   ]
  },
  {
   "cell_type": "code",
   "execution_count": 18,
   "metadata": {},
   "outputs": [
    {
     "name": "stdout",
     "output_type": "stream",
     "text": [
      "110\n"
     ]
    }
   ],
   "source": [
    "n = 0\n",
    "while 1:\n",
    "    res = n ** 2\n",
    "    if res >= 12000:\n",
    "        break\n",
    "    else:\n",
    "        n += 1\n",
    "print(n)"
   ]
  },
  {
   "cell_type": "code",
   "execution_count": 21,
   "metadata": {},
   "outputs": [
    {
     "name": "stdout",
     "output_type": "stream",
     "text": [
      "22\n"
     ]
    }
   ],
   "source": [
    "n = 0\n",
    "while 1:\n",
    "    res = n ** 3\n",
    "    if res < 12000:\n",
    "        n += 1\n",
    "    else:\n",
    "        break\n",
    "print(n-1)"
   ]
  },
  {
   "cell_type": "code",
   "execution_count": null,
   "metadata": {},
   "outputs": [],
   "source": []
  },
  {
   "cell_type": "markdown",
   "metadata": {},
   "source": [
    "- 6\n",
    "![](../Photo/62.png)"
   ]
  },
  {
   "cell_type": "code",
   "execution_count": 41,
   "metadata": {},
   "outputs": [
    {
     "name": "stdout",
     "output_type": "stream",
     "text": [
      "5 % 月利率 500.0 总和 30000.0\n",
      "5.125 % 月利率 512.5 总和 30750.0\n",
      "5.25 % 月利率 525.0 总和 31500.0\n",
      ".....\n",
      "5.375 % 月利率 537.5 总和 32250.0\n",
      "5.5 % 月利率 550.0 总和 33000.0\n",
      "5.625 % 月利率 562.5 总和 33750.0\n",
      "5.75 % 月利率 575.0 总和 34500.0\n",
      "5.875 % 月利率 587.5 总和 35250.0\n",
      "6.0 % 月利率 600.0 总和 36000.0\n",
      "6.125 % 月利率 612.5 总和 36750.0\n",
      "6.25 % 月利率 625.0 总和 37500.0\n",
      "6.375 % 月利率 637.5 总和 38250.0\n",
      "6.5 % 月利率 650.0 总和 39000.0\n",
      "6.625 % 月利率 662.5 总和 39750.0\n",
      "6.75 % 月利率 675.0 总和 40500.0\n",
      "6.875 % 月利率 687.5 总和 41250.0\n",
      "7.0 % 月利率 700.0 总和 42000.0\n",
      "7.125 % 月利率 712.5 总和 42750.0\n",
      "7.25 % 月利率 725.0 总和 43500.0\n",
      "7.375 % 月利率 737.5 总和 44250.0\n",
      "7.5 % 月利率 750.0 总和 45000.0\n",
      "7.625 % 月利率 762.5 总和 45750.0\n",
      "7.75 % 月利率 775.0 总和 46500.0\n",
      "7.875 % 月利率 787.5 总和 47250.0\n"
     ]
    }
   ],
   "source": [
    "Money = 10000\n",
    "lilv = 5\n",
    "nian = 5\n",
    "for i in range(24):\n",
    "    M = Money * lilv / 100\n",
    "    T = 12 * M * nian\n",
    "    print(lilv,'%','月利率',M,'总和',T)\n",
    "    if lilv == 5.25:\n",
    "        print('.....')\n",
    "    lilv += 1/8"
   ]
  },
  {
   "cell_type": "markdown",
   "metadata": {},
   "source": [
    "- 7\n",
    "![](../Photo/63.png)"
   ]
  },
  {
   "cell_type": "code",
   "execution_count": 1,
   "metadata": {},
   "outputs": [
    {
     "name": "stdout",
     "output_type": "stream",
     "text": [
      "11.397003949278519\n"
     ]
    }
   ],
   "source": [
    "res = 0\n",
    "for i in range(50000,0,-1):\n",
    "    res += 1/i\n",
    "print(res)"
   ]
  },
  {
   "cell_type": "code",
   "execution_count": 2,
   "metadata": {},
   "outputs": [
    {
     "name": "stdout",
     "output_type": "stream",
     "text": [
      "11.397003949278504\n"
     ]
    }
   ],
   "source": [
    "res = 0\n",
    "for i in range(1,50001,1):\n",
    "    res += 1/i\n",
    "print(res)"
   ]
  },
  {
   "cell_type": "markdown",
   "metadata": {},
   "source": [
    "- 8\n",
    "![](../Photo/64.png)"
   ]
  },
  {
   "cell_type": "code",
   "execution_count": 43,
   "metadata": {},
   "outputs": [
    {
     "name": "stdout",
     "output_type": "stream",
     "text": [
      "45.124450303050196\n"
     ]
    }
   ],
   "source": [
    "res = 0\n",
    "for i in range(1,98,2):\n",
    "    res +=  i/ (i+2)\n",
    "print(res)"
   ]
  },
  {
   "cell_type": "markdown",
   "metadata": {},
   "source": [
    "- 9\n",
    "![](../Photo/65.png)"
   ]
  },
  {
   "cell_type": "code",
   "execution_count": 48,
   "metadata": {},
   "outputs": [
    {
     "name": "stdout",
     "output_type": "stream",
     "text": [
      "3.1416026536897204\n"
     ]
    }
   ],
   "source": [
    "res = 0\n",
    "for i in range(1,100000):\n",
    "    res += 4*((-1)**(i+1)/(2*i-1))\n",
    "print(res)"
   ]
  },
  {
   "cell_type": "markdown",
   "metadata": {},
   "source": [
    "- 10 \n",
    "![](../Photo/66.png)"
   ]
  },
  {
   "cell_type": "code",
   "execution_count": 50,
   "metadata": {},
   "outputs": [
    {
     "name": "stdout",
     "output_type": "stream",
     "text": [
      "6\n",
      "28\n",
      "496\n",
      "8128\n"
     ]
    }
   ],
   "source": [
    "for i in range(1,10000):\n",
    "    res = 0\n",
    "    for j in range(1,i):\n",
    "        if i % j == 0:\n",
    "            res += j\n",
    "    if i == res:\n",
    "        print(i) "
   ]
  },
  {
   "cell_type": "markdown",
   "metadata": {},
   "source": [
    "- 11\n",
    "![](../Photo/67.png)"
   ]
  },
  {
   "cell_type": "code",
   "execution_count": 52,
   "metadata": {},
   "outputs": [
    {
     "name": "stdout",
     "output_type": "stream",
     "text": [
      "1 2\n",
      "1 3\n",
      "1 4\n",
      "1 5\n",
      "1 6\n",
      "1 7\n",
      "3 2\n",
      "3 4\n",
      "3 5\n",
      "3 6\n",
      "3 7\n",
      "5 2\n",
      "5 3\n",
      "5 4\n",
      "5 6\n",
      "5 7\n",
      "7 2\n",
      "7 3\n",
      "7 4\n",
      "7 5\n",
      "7 6\n",
      "21\n"
     ]
    }
   ],
   "source": [
    "a = 0\n",
    "for i in range(1,8,2):\n",
    "    for j in range(2,8):\n",
    "        if i != j:\n",
    "            print(i,j)\n",
    "            a += 1"
   ]
  },
  {
   "cell_type": "markdown",
   "metadata": {},
   "source": [
    "- 12\n",
    "![](../Photo/68.png)"
   ]
  },
  {
   "cell_type": "code",
   "execution_count": 17,
   "metadata": {},
   "outputs": [
    {
     "name": "stdout",
     "output_type": "stream",
     "text": [
      "1\n",
      "2\n",
      "3\n",
      "4\n",
      "5\n",
      "6\n",
      "7\n",
      "8\n",
      "9\n",
      "10\n",
      "The mean is 5.50\n",
      "The standard deviation is 8.25000\n"
     ]
    }
   ],
   "source": [
    "import math\n",
    "a = float(input())\n",
    "b = float(input())\n",
    "c = float(input())\n",
    "d = float(input())\n",
    "e = float(input())\n",
    "f = float(input())\n",
    "g = float(input())\n",
    "h = float(input())\n",
    "i = float(input())\n",
    "j = float(input())\n",
    "def Mean():\n",
    "    mean = (a+b+c+d+e+f+g+h+i+j) / 10\n",
    "    print('The mean is %.2f'%mean)\n",
    "def Deviation():\n",
    "    mean = (a+b+c+d+e+f+g+h+i+j) / 10\n",
    "    deviation = (((a-mean)**2+(b-mean)**2+(c-mean)**2+(d-mean)**2+(e-mean)**2+(f-mean)**2+(g-mean)**2+(h-mean)**2+(i-mean)**2+(j-mean)**2)) / 10.0\n",
    "    print('The standard deviation is %.5f'%deviation)\n",
    "Mean()\n",
    "Deviation()"
   ]
  }
 ],
 "metadata": {
  "kernelspec": {
   "display_name": "Python 3",
   "language": "python",
   "name": "python3"
  },
  "language_info": {
   "codemirror_mode": {
    "name": "ipython",
    "version": 3
   },
   "file_extension": ".py",
   "mimetype": "text/x-python",
   "name": "python",
   "nbconvert_exporter": "python",
   "pygments_lexer": "ipython3",
   "version": "3.7.3"
  }
 },
 "nbformat": 4,
 "nbformat_minor": 2
}
